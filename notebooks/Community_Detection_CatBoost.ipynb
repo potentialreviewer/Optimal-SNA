{
  "nbformat": 4,
  "nbformat_minor": 0,
  "metadata": {
    "colab": {
      "provenance": []
    },
    "kernelspec": {
      "name": "python3",
      "display_name": "Python 3"
    },
    "language_info": {
      "name": "python"
    }
  },
  "cells": [
    {
      "cell_type": "code",
      "execution_count": null,
      "metadata": {
        "id": "88RBUe1j8R-y"
      },
      "outputs": [],
      "source": [
        "!pip install catboost"
      ]
    },
    {
      "cell_type": "code",
      "source": [
        "!pip install optuna"
      ],
      "metadata": {
        "id": "Rp97KFoJ-HWe"
      },
      "execution_count": null,
      "outputs": []
    },
    {
      "cell_type": "code",
      "source": [
        "import pickle\n",
        "import random\n",
        "import numpy as np\n",
        "random.seed(2025)\n",
        "np.random.seed(2025)\n",
        "import pandas as pd\n",
        "import glob\n",
        "import urllib.request\n",
        "import optuna\n",
        "import shap\n",
        "import matplotlib.pyplot as plt\n",
        "import seaborn as sns\n",
        "from sklearn.utils import shuffle\n",
        "from sklearn.preprocessing import KBinsDiscretizer\n",
        "from sklearn.model_selection import train_test_split, StratifiedKFold\n",
        "from catboost import CatBoostRegressor, Pool\n",
        "from sklearn.metrics import mean_squared_error"
      ],
      "metadata": {
        "id": "G-Vel4hS-Itr"
      },
      "execution_count": null,
      "outputs": []
    },
    {
      "cell_type": "code",
      "source": [
        "url = \"https://raw.githubusercontent.com/potentialreviewer/Optimal-SNA/main/data/Community_Detection.pkl\"\n",
        "file_name = \"Community_Detection.pkl\"\n",
        "\n",
        "urllib.request.urlretrieve(url, file_name)\n",
        "\n",
        "with open(\"Community_Detection.pkl\", \"rb\") as f:\n",
        "    community_detection = pickle.load(f)"
      ],
      "metadata": {
        "id": "k5_XBPuY-NPF"
      },
      "execution_count": null,
      "outputs": []
    },
    {
      "cell_type": "code",
      "source": [
        "community_detection = shuffle(community_detection, random_state=2025).reset_index(drop=True)"
      ],
      "metadata": {
        "id": "3VkwSkaz-pbR"
      },
      "execution_count": null,
      "outputs": []
    },
    {
      "cell_type": "code",
      "source": [
        "kbd = KBinsDiscretizer(n_bins=5, encode='ordinal', strategy='uniform')\n",
        "community_detection['Bin'] = kbd.fit_transform(community_detection[['Modularity']]).astype(int).ravel()\n",
        "\n",
        "features = ['Dataset', 'AKE Method', 'Zeta', 'Edge Measure', 'Algorithm', 'RI', 'Isolated Nodes', 'Edge Count']\n",
        "\n",
        "X = community_detection[features]\n",
        "y = community_detection['Modularity']\n",
        "strata = community_detection['Bin']\n",
        "\n",
        "X_train, X_test, y_train, y_test, strata_train, strata_test = train_test_split(\n",
        "    X, y, strata, test_size=0.2, stratify=strata, random_state=2025)\n",
        "\n",
        "skf = StratifiedKFold(n_splits=5, shuffle=True, random_state=2025)\n",
        "folds = list(skf.split(X_train, strata_train))\n",
        "\n",
        "cat_features = ['Dataset', 'AKE Method', 'Edge Measure', 'Algorithm']"
      ],
      "metadata": {
        "id": "6K-qOWTK-rKQ"
      },
      "execution_count": null,
      "outputs": []
    },
    {
      "cell_type": "code",
      "source": [
        "def objective(trial):\n",
        "    params = {\n",
        "        \"iterations\": 1000,\n",
        "        \"learning_rate\": trial.suggest_float(\"learning_rate\", 0.003, 0.3, log=True),\n",
        "        \"depth\": trial.suggest_int(\"depth\", 4, 10),\n",
        "        \"l2_leaf_reg\": trial.suggest_float(\"l2_leaf_reg\", 0.3, 30, log=True),\n",
        "        \"loss_function\": \"RMSE\",\n",
        "        \"border_count\": 254,\n",
        "        \"od_pval\": trial.suggest_float(\"od_pval\", 1e-10, 1e-2, log=True),\n",
        "        \"od_wait\": 50,\n",
        "        \"od_type\": \"IncToDec\",\n",
        "        \"random_seed\": 2025,\n",
        "        \"use_best_model\": True,\n",
        "        \"verbose\": 0,\n",
        "        \"random_strength\": trial.suggest_float(\"random_strength\", 0.1, 10.0, log=True),\n",
        "        \"eval_metric\": \"RMSE\",\n",
        "        \"bootstrap_type\": trial.suggest_categorical(\"bootstrap_type\", [\"Bayesian\", \"Bernoulli\", \"MVS\"])\n",
        "    }\n",
        "\n",
        "    if params[\"bootstrap_type\"] == \"Bayesian\":\n",
        "        params[\"bagging_temperature\"] = trial.suggest_float(\"bagging_temperature\", 0.1, 10, log=True)\n",
        "    elif params[\"bootstrap_type\"] == \"Bernoulli\":\n",
        "        params[\"subsample\"] = trial.suggest_float(\"subsample\", 0.1, 1.0, log=True)\n",
        "    elif params[\"bootstrap_type\"] == \"MVS\":\n",
        "        params[\"subsample\"] = trial.suggest_float(\"subsample\", 0.1, 1.0, log=True)\n",
        "\n",
        "    rmse_values = []\n",
        "\n",
        "    for fold_train_idx, fold_valid_idx in folds:\n",
        "        X_fold_train, X_fold_valid = X_train.iloc[fold_train_idx], X_train.iloc[fold_valid_idx]\n",
        "        y_fold_train, y_fold_valid = y_train.iloc[fold_train_idx], y_train.iloc[fold_valid_idx]\n",
        "\n",
        "        model = CatBoostRegressor(**params)\n",
        "        model.fit(X_fold_train, y_fold_train,\n",
        "                  eval_set=(X_fold_valid, y_fold_valid),\n",
        "                  cat_features=cat_features)\n",
        "\n",
        "        predicts = model.predict(X_fold_valid)\n",
        "        mse = mean_squared_error(y_fold_valid, predicts)\n",
        "        rmse = np.sqrt(mse)\n",
        "        rmse_values.append(rmse)\n",
        "\n",
        "    mean_rmse = np.mean(rmse_values)\n",
        "    std_rmse = np.std(rmse_values)\n",
        "\n",
        "    return mean_rmse + std_rmse"
      ],
      "metadata": {
        "id": "BM_e215e-rNN"
      },
      "execution_count": null,
      "outputs": []
    },
    {
      "cell_type": "code",
      "source": [
        "study = optuna.create_study(direction=\"minimize\", sampler=optuna.samplers.TPESampler(seed=2025))\n",
        "study.optimize(objective, n_trials=200, timeout=10000)"
      ],
      "metadata": {
        "id": "5DWpsnWk_jNZ"
      },
      "execution_count": null,
      "outputs": []
    },
    {
      "cell_type": "code",
      "source": [
        "print(\"Best trial:\")\n",
        "print(f\"  RMSE: {study.best_trial.value}\")\n",
        "print(\"  Parameters:\")\n",
        "for key, value in study.best_trial.params.items():\n",
        "    print(f\"    {key}: {value}\")"
      ],
      "metadata": {
        "id": "d49KbMyc_jQc"
      },
      "execution_count": null,
      "outputs": []
    },
    {
      "cell_type": "code",
      "source": [
        "best_params = study.best_trial.params\n",
        "best_params[\"iterations\"] = 1000\n",
        "best_params[\"loss_function\"] = \"RMSE\"\n",
        "best_params[\"border_count\"] = 254\n",
        "best_params[\"od_wait\"] = 50\n",
        "best_params[\"od_type\"] = \"IncToDec\"\n",
        "best_params[\"random_seed\"] = 2025\n",
        "best_params[\"use_best_model\"] = True\n",
        "best_params[\"verbose\"] = 100\n",
        "best_params[\"eval_metric\"] = \"RMSE\"\n",
        "\n",
        "X_model_train, X_model_val, y_model_train, y_model_val, strata_model_train, strata_model_val = train_test_split(\n",
        "    X_train, y_train, strata_train, test_size=0.25, stratify=strata_train, random_state=2025)\n",
        "\n",
        "final_model = CatBoostRegressor(**best_params)\n",
        "\n",
        "final_model.fit(X_model_train, y_model_train,\n",
        "                eval_set=(X_model_val, y_model_val),\n",
        "                cat_features=cat_features)\n",
        "\n",
        "eval_result = final_model.evals_result_"
      ],
      "metadata": {
        "id": "GXKZjnQx_jTU"
      },
      "execution_count": null,
      "outputs": []
    },
    {
      "cell_type": "code",
      "source": [
        "plt.figure(figsize=(10,6))\n",
        "plt.plot(eval_result['validation']['RMSE'], label='Validation RMSE', color='red')\n",
        "plt.plot(eval_result['learn']['RMSE'], label='Train RMSE', color='blue', linestyle='--')\n",
        "plt.xlabel('Iteration')\n",
        "plt.ylabel('RMSE')\n",
        "plt.title('Learning Curve (Train v. Validation)')\n",
        "plt.legend()\n",
        "plt.grid(True)\n",
        "plt.show()"
      ],
      "metadata": {
        "id": "hxvXx3Q9B9Rv"
      },
      "execution_count": null,
      "outputs": []
    },
    {
      "cell_type": "code",
      "source": [
        "test_predicts = final_model.predict(X_test)\n",
        "test_mse = mean_squared_error(y_test, test_predicts)\n",
        "test_rmse = np.sqrt(test_mse)"
      ],
      "metadata": {
        "id": "QgfEuDVYB9Uo"
      },
      "execution_count": null,
      "outputs": []
    },
    {
      "cell_type": "code",
      "source": [
        "print(f\"Test RMSE: {test_rmse:.4f}\")"
      ],
      "metadata": {
        "id": "bGvPGdSPCHCS"
      },
      "execution_count": null,
      "outputs": []
    },
    {
      "cell_type": "code",
      "source": [
        "explainer = shap.TreeExplainer(final_model)\n",
        "shap_values = explainer(X_test)"
      ],
      "metadata": {
        "id": "SinH57rECHFO"
      },
      "execution_count": null,
      "outputs": []
    },
    {
      "cell_type": "code",
      "source": [
        "shap.plots.beeswarm(shap_values, color=\"cool\")"
      ],
      "metadata": {
        "id": "zKQvVXeSCHJO"
      },
      "execution_count": null,
      "outputs": []
    },
    {
      "cell_type": "code",
      "source": [
        "shap.plots.bar(shap_values)"
      ],
      "metadata": {
        "id": "e2hWoY0sCHMz"
      },
      "execution_count": null,
      "outputs": []
    },
    {
      "cell_type": "code",
      "source": [
        "plot_features = [\"Edge Measure\", \"Algorithm\", \"AKE Method\"]\n",
        "subplot_labels = [\"(a)\", \"(b)\", \"(c)\"]\n",
        "\n",
        "fig, axes = plt.subplots(1, 3, figsize=(12, 4))\n",
        "axes = axes.flatten()\n",
        "\n",
        "for i, feature in enumerate(plot_features):\n",
        "    shap.plots.scatter(\n",
        "        shap_values[:, feature],\n",
        "        color=shap_values,\n",
        "        show=False,\n",
        "        cmap='cool',\n",
        "        ax=axes[i]\n",
        "    )\n",
        "    axes[i].set_title(f\"{subplot_labels[i]}\", fontsize=12)\n",
        "\n",
        "plt.tight_layout()\n",
        "plt.show()"
      ],
      "metadata": {
        "id": "v9n2H48v-rUM"
      },
      "execution_count": null,
      "outputs": []
    },
    {
      "cell_type": "code",
      "source": [
        "local_shap_interaction_values = explainer.shap_interaction_values(X_test)\n",
        "global_shap_interaction_values = np.mean(np.abs(local_shap_interaction_values), axis=0)"
      ],
      "metadata": {
        "id": "LSMWPiuLCYLv"
      },
      "execution_count": null,
      "outputs": []
    },
    {
      "cell_type": "code",
      "source": [
        "plt.figure(figsize=(12, 10))\n",
        "sns.heatmap(global_shap_interaction_values,\n",
        "            xticklabels=X_test.columns,\n",
        "            yticklabels=X_test.columns,\n",
        "            annot=True, fmt=\".3f\",\n",
        "            cmap=\"cool\",\n",
        "            annot_kws={\"size\": 12},\n",
        "            cbar_kws={\"shrink\": 0.8, \"aspect\": 20})\n",
        "\n",
        "plt.xticks(rotation=50, ha='right', fontsize=14)\n",
        "plt.yticks(rotation=50, ha='right', fontsize=14)\n",
        "plt.title(\"Heatmap of Global SHAP Interaction Values\", fontsize=18, pad=20)\n",
        "\n",
        "plt.tight_layout()\n",
        "plt.show()"
      ],
      "metadata": {
        "id": "ienFLLs6CYOa"
      },
      "execution_count": null,
      "outputs": []
    }
  ]
}